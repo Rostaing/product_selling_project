{
 "cells": [
  {
   "cell_type": "markdown",
   "id": "e0c384ee-dac4-4a2a-8738-a5cedf600da8",
   "metadata": {
    "canvas": {
     "comments": [],
     "componentType": "CodeCell",
     "copiedOriginId": null,
     "diskcache": false,
     "headerColor": "none",
     "id": "3cb81184-5fe6-43f2-bed8-8954a2d0932e",
     "isComponent": false,
     "name": "",
     "parents": []
    },
    "tags": []
   },
   "source": [
    "## Importing libraries"
   ]
  },
  {
   "cell_type": "code",
   "execution_count": 2,
   "id": "d564b7be",
   "metadata": {},
   "outputs": [],
   "source": [
    "import numpy as np\n",
    "import pandas as pd\n",
    "import matplotlib.pyplot as plt\n",
    "import seaborn as sns"
   ]
  },
  {
   "cell_type": "markdown",
   "id": "1334de7b-ee8f-4e26-9286-cfc1c739c374",
   "metadata": {
    "canvas": {
     "comments": [],
     "componentType": "CodeCell",
     "copiedOriginId": null,
     "diskcache": false,
     "headerColor": "none",
     "id": "86c04f05-6cd0-4783-b7c8-9c3ed7203cf1",
     "isComponent": false,
     "name": "",
     "parents": []
    }
   },
   "source": [
    "# Load Data"
   ]
  },
  {
   "cell_type": "code",
   "execution_count": 3,
   "id": "b354ac2b-84c3-4be6-92fe-f3978d177a85",
   "metadata": {
    "canvas": {
     "comments": [],
     "componentType": "CodeCell",
     "copiedOriginId": null,
     "diskcache": false,
     "headerColor": "none",
     "id": "b82aacfd-b18d-4611-aa0b-d9d3398dbb20",
     "isComponent": false,
     "name": "",
     "parents": []
    }
   },
   "outputs": [
    {
     "data": {
      "text/html": [
       "<div>\n",
       "<style scoped>\n",
       "    .dataframe tbody tr th:only-of-type {\n",
       "        vertical-align: middle;\n",
       "    }\n",
       "\n",
       "    .dataframe tbody tr th {\n",
       "        vertical-align: top;\n",
       "    }\n",
       "\n",
       "    .dataframe thead th {\n",
       "        text-align: right;\n",
       "    }\n",
       "</style>\n",
       "<table border=\"1\" class=\"dataframe\">\n",
       "  <thead>\n",
       "    <tr style=\"text-align: right;\">\n",
       "      <th></th>\n",
       "      <th>Date_commande</th>\n",
       "      <th>Fournisseur_id</th>\n",
       "      <th>Produit</th>\n",
       "      <th>Quantité</th>\n",
       "      <th>Prix_unitaire</th>\n",
       "      <th>Total_achat</th>\n",
       "    </tr>\n",
       "  </thead>\n",
       "  <tbody>\n",
       "    <tr>\n",
       "      <th>0</th>\n",
       "      <td>2019-01-01</td>\n",
       "      <td>1</td>\n",
       "      <td>Tomate</td>\n",
       "      <td>32</td>\n",
       "      <td>0.20</td>\n",
       "      <td>6.40</td>\n",
       "    </tr>\n",
       "    <tr>\n",
       "      <th>1</th>\n",
       "      <td>2019-01-01</td>\n",
       "      <td>2</td>\n",
       "      <td>Salade</td>\n",
       "      <td>77</td>\n",
       "      <td>0.40</td>\n",
       "      <td>30.80</td>\n",
       "    </tr>\n",
       "    <tr>\n",
       "      <th>2</th>\n",
       "      <td>2019-01-01</td>\n",
       "      <td>3</td>\n",
       "      <td>Pain</td>\n",
       "      <td>8</td>\n",
       "      <td>1.00</td>\n",
       "      <td>8.00</td>\n",
       "    </tr>\n",
       "    <tr>\n",
       "      <th>3</th>\n",
       "      <td>2019-01-01</td>\n",
       "      <td>4</td>\n",
       "      <td>Chocolat</td>\n",
       "      <td>65</td>\n",
       "      <td>1.25</td>\n",
       "      <td>81.25</td>\n",
       "    </tr>\n",
       "    <tr>\n",
       "      <th>4</th>\n",
       "      <td>2019-01-01</td>\n",
       "      <td>3</td>\n",
       "      <td>Riz</td>\n",
       "      <td>53</td>\n",
       "      <td>1.00</td>\n",
       "      <td>53.00</td>\n",
       "    </tr>\n",
       "  </tbody>\n",
       "</table>\n",
       "</div>"
      ],
      "text/plain": [
       "  Date_commande  Fournisseur_id   Produit  Quantité  Prix_unitaire  \\\n",
       "0    2019-01-01               1    Tomate        32           0.20   \n",
       "1    2019-01-01               2    Salade        77           0.40   \n",
       "2    2019-01-01               3      Pain         8           1.00   \n",
       "3    2019-01-01               4  Chocolat        65           1.25   \n",
       "4    2019-01-01               3       Riz        53           1.00   \n",
       "\n",
       "   Total_achat  \n",
       "0         6.40  \n",
       "1        30.80  \n",
       "2         8.00  \n",
       "3        81.25  \n",
       "4        53.00  "
      ]
     },
     "execution_count": 3,
     "metadata": {},
     "output_type": "execute_result"
    }
   ],
   "source": [
    "df = pd.read_excel(\"DATAOMEGA Calculate_set.xlsx\")\n",
    "df.head()"
   ]
  },
  {
   "cell_type": "code",
   "execution_count": 4,
   "id": "059b25b3",
   "metadata": {},
   "outputs": [
    {
     "data": {
      "text/html": [
       "<div>\n",
       "<style scoped>\n",
       "    .dataframe tbody tr th:only-of-type {\n",
       "        vertical-align: middle;\n",
       "    }\n",
       "\n",
       "    .dataframe tbody tr th {\n",
       "        vertical-align: top;\n",
       "    }\n",
       "\n",
       "    .dataframe thead th {\n",
       "        text-align: right;\n",
       "    }\n",
       "</style>\n",
       "<table border=\"1\" class=\"dataframe\">\n",
       "  <thead>\n",
       "    <tr style=\"text-align: right;\">\n",
       "      <th></th>\n",
       "      <th>Fournisseur_id</th>\n",
       "      <th>Produit</th>\n",
       "      <th>Quantité</th>\n",
       "      <th>Prix_unitaire</th>\n",
       "      <th>Total_achat</th>\n",
       "    </tr>\n",
       "    <tr>\n",
       "      <th>Date_commande</th>\n",
       "      <th></th>\n",
       "      <th></th>\n",
       "      <th></th>\n",
       "      <th></th>\n",
       "      <th></th>\n",
       "    </tr>\n",
       "  </thead>\n",
       "  <tbody>\n",
       "    <tr>\n",
       "      <th>2019-01-01</th>\n",
       "      <td>1</td>\n",
       "      <td>Tomate</td>\n",
       "      <td>32</td>\n",
       "      <td>0.20</td>\n",
       "      <td>6.40</td>\n",
       "    </tr>\n",
       "    <tr>\n",
       "      <th>2019-01-01</th>\n",
       "      <td>2</td>\n",
       "      <td>Salade</td>\n",
       "      <td>77</td>\n",
       "      <td>0.40</td>\n",
       "      <td>30.80</td>\n",
       "    </tr>\n",
       "    <tr>\n",
       "      <th>2019-01-01</th>\n",
       "      <td>3</td>\n",
       "      <td>Pain</td>\n",
       "      <td>8</td>\n",
       "      <td>1.00</td>\n",
       "      <td>8.00</td>\n",
       "    </tr>\n",
       "    <tr>\n",
       "      <th>2019-01-01</th>\n",
       "      <td>4</td>\n",
       "      <td>Chocolat</td>\n",
       "      <td>65</td>\n",
       "      <td>1.25</td>\n",
       "      <td>81.25</td>\n",
       "    </tr>\n",
       "    <tr>\n",
       "      <th>2019-01-01</th>\n",
       "      <td>3</td>\n",
       "      <td>Riz</td>\n",
       "      <td>53</td>\n",
       "      <td>1.00</td>\n",
       "      <td>53.00</td>\n",
       "    </tr>\n",
       "  </tbody>\n",
       "</table>\n",
       "</div>"
      ],
      "text/plain": [
       "               Fournisseur_id   Produit  Quantité  Prix_unitaire  Total_achat\n",
       "Date_commande                                                                \n",
       "2019-01-01                  1    Tomate        32           0.20         6.40\n",
       "2019-01-01                  2    Salade        77           0.40        30.80\n",
       "2019-01-01                  3      Pain         8           1.00         8.00\n",
       "2019-01-01                  4  Chocolat        65           1.25        81.25\n",
       "2019-01-01                  3       Riz        53           1.00        53.00"
      ]
     },
     "execution_count": 4,
     "metadata": {},
     "output_type": "execute_result"
    }
   ],
   "source": [
    "df.set_index(\"Date_commande\", inplace=True)\n",
    "df.head()"
   ]
  },
  {
   "cell_type": "code",
   "execution_count": 43,
   "id": "61d15f74-7770-4f29-9bbe-9ba1988a424b",
   "metadata": {
    "canvas": {
     "comments": [],
     "componentType": "CodeCell",
     "copiedOriginId": null,
     "diskcache": false,
     "headerColor": "none",
     "id": "38e60e4c-8bbe-4769-8f08-e1bd253668d1",
     "isComponent": false,
     "name": "",
     "parents": []
    }
   },
   "outputs": [
    {
     "name": "stdout",
     "output_type": "stream",
     "text": [
      "Exist\n"
     ]
    }
   ],
   "source": [
    "if df.empty:\n",
    "    print(\"Empty\")\n",
    "else:\n",
    "    print(\"Exist\")"
   ]
  },
  {
   "cell_type": "code",
   "execution_count": 44,
   "id": "a9a7a6ce-2d7b-43e5-854a-e4413885d3bc",
   "metadata": {
    "canvas": {
     "comments": [],
     "componentType": "CodeCell",
     "copiedOriginId": null,
     "diskcache": false,
     "headerColor": "none",
     "id": "ecaa7b0a-26e3-406c-b00c-6d3a2948f022",
     "isComponent": false,
     "name": "",
     "parents": []
    }
   },
   "outputs": [
    {
     "data": {
      "text/plain": [
       "Date_commande     14\n",
       "Fournisseur_id    14\n",
       "Produit           14\n",
       "Quantité          14\n",
       "Prix_unitaire     14\n",
       "Total_achat       14\n",
       "dtype: int64"
      ]
     },
     "execution_count": 44,
     "metadata": {},
     "output_type": "execute_result"
    }
   ],
   "source": [
    "df.notna().sum()"
   ]
  },
  {
   "cell_type": "markdown",
   "id": "451baf67-6a9e-41ed-a1ed-5217f7f1e890",
   "metadata": {
    "canvas": {
     "comments": [],
     "componentType": "CodeCell",
     "copiedOriginId": null,
     "diskcache": false,
     "headerColor": "inherit",
     "id": "115a9773-4f82-4fbb-b093-09090ca294cf",
     "isComponent": false,
     "name": "",
     "parents": []
    }
   },
   "source": [
    "### Exploratory Data Analysis (EDA)"
   ]
  },
  {
   "cell_type": "code",
   "execution_count": 46,
   "id": "28f261db-895d-49ee-b716-eb990ae6e870",
   "metadata": {
    "canvas": {
     "comments": [],
     "componentType": "CodeCell",
     "copiedOriginId": null,
     "diskcache": false,
     "headerColor": "inherit",
     "id": "4a189f66-de40-4903-9478-b4d7af5bfdc0",
     "isComponent": false,
     "name": "",
     "parents": []
    }
   },
   "outputs": [
    {
     "data": {
      "image/png": "[encoded data removed]",
      "text/plain": [
       "<Figure size 1800x720 with 2 Axes>"
      ]
     },
     "metadata": {
      "needs_background": "light"
     },
     "output_type": "display_data"
    }
   ],
   "source": [
    "ms.matrix(df);"
   ]
  },
  {
   "cell_type": "code",
   "execution_count": 5,
   "id": "c76ee52d-f2c9-4541-a896-c58e45f511ee",
   "metadata": {
    "canvas": {
     "comments": [],
     "componentType": "CodeCell",
     "copiedOriginId": null,
     "diskcache": false,
     "headerColor": "none",
     "id": "26755cc0-8516-446d-9145-98b9884c0151",
     "isComponent": false,
     "name": "",
     "parents": []
    }
   },
   "outputs": [],
   "source": [
    "v = df[[\"Quantité\"]].query(\"Quantité >= 50\")"
   ]
  },
  {
   "cell_type": "code",
   "execution_count": 12,
   "id": "7e177685-a5b7-4015-99c9-e43a6f3e9fe8",
   "metadata": {
    "canvas": {
     "comments": [],
     "componentType": "CodeCell",
     "copiedOriginId": null,
     "diskcache": false,
     "headerColor": "none",
     "id": "bf097687-e832-4a73-a531-192521c6c05a",
     "isComponent": false,
     "name": "",
     "parents": []
    }
   },
   "outputs": [
    {
     "data": {
      "image/png": "[encoded data removed]",
      "text/plain": [
       "<Figure size 432x288 with 1 Axes>"
      ]
     },
     "metadata": {
      "needs_background": "light"
     },
     "output_type": "display_data"
    }
   ],
   "source": [
    "sns.countplot(x=df.Quantité, data=df);"
   ]
  },
  {
   "cell_type": "code",
   "execution_count": 19,
   "id": "e776a3c0-842f-4865-a219-3eb2eb73a889",
   "metadata": {
    "canvas": {
     "comments": [],
     "componentType": "CodeCell",
     "copiedOriginId": null,
     "diskcache": false,
     "headerColor": "none",
     "id": "2508b334-326a-4182-b665-22b896cb167e",
     "isComponent": false,
     "name": "",
     "parents": []
    }
   },
   "outputs": [
    {
     "data": {
      "image/png": "[encoded data removed]",
      "text/plain": [
       "<Figure size 864x576 with 1 Axes>"
      ]
     },
     "metadata": {
      "needs_background": "light"
     },
     "output_type": "display_data"
    }
   ],
   "source": [
    "df.Produit.value_counts().plot.pie(figsize=(12, 8), autopct=\"%.0f%%\", shadow=True, frame=True, legend=True);"
   ]
  },
  {
   "cell_type": "code",
   "execution_count": 20,
   "id": "1b73ffe4-0cf3-4827-8ff9-d93597fe40c8",
   "metadata": {
    "canvas": {
     "comments": [],
     "componentType": "CodeCell",
     "copiedOriginId": null,
     "diskcache": false,
     "headerColor": "none",
     "id": "b83b3efa-be46-4e53-98f0-654070fad178",
     "isComponent": false,
     "name": "",
     "parents": []
    }
   },
   "outputs": [
    {
     "data": {
      "text/html": [
       "<div>\n",
       "<style scoped>\n",
       "    .dataframe tbody tr th:only-of-type {\n",
       "        vertical-align: middle;\n",
       "    }\n",
       "\n",
       "    .dataframe tbody tr th {\n",
       "        vertical-align: top;\n",
       "    }\n",
       "\n",
       "    .dataframe thead th {\n",
       "        text-align: right;\n",
       "    }\n",
       "</style>\n",
       "<table border=\"1\" class=\"dataframe\">\n",
       "  <thead>\n",
       "    <tr style=\"text-align: right;\">\n",
       "      <th></th>\n",
       "      <th>Date_commande</th>\n",
       "      <th>Fournisseur_id</th>\n",
       "      <th>Produit</th>\n",
       "      <th>Quantité</th>\n",
       "      <th>Prix_unitaire</th>\n",
       "      <th>Total_achat</th>\n",
       "    </tr>\n",
       "  </thead>\n",
       "  <tbody>\n",
       "    <tr>\n",
       "      <th>9</th>\n",
       "      <td>2020-01-01</td>\n",
       "      <td>8</td>\n",
       "      <td>Céréale</td>\n",
       "      <td>35</td>\n",
       "      <td>1.25</td>\n",
       "      <td>43.75</td>\n",
       "    </tr>\n",
       "    <tr>\n",
       "      <th>10</th>\n",
       "      <td>2020-01-01</td>\n",
       "      <td>1</td>\n",
       "      <td>Chocolat</td>\n",
       "      <td>46</td>\n",
       "      <td>1.25</td>\n",
       "      <td>57.50</td>\n",
       "    </tr>\n",
       "    <tr>\n",
       "      <th>11</th>\n",
       "      <td>2020-01-01</td>\n",
       "      <td>9</td>\n",
       "      <td>Carotte</td>\n",
       "      <td>65</td>\n",
       "      <td>0.35</td>\n",
       "      <td>22.75</td>\n",
       "    </tr>\n",
       "    <tr>\n",
       "      <th>12</th>\n",
       "      <td>2020-01-01</td>\n",
       "      <td>10</td>\n",
       "      <td>Eau</td>\n",
       "      <td>68</td>\n",
       "      <td>0.15</td>\n",
       "      <td>10.20</td>\n",
       "    </tr>\n",
       "    <tr>\n",
       "      <th>13</th>\n",
       "      <td>2020-01-01</td>\n",
       "      <td>4</td>\n",
       "      <td>Tomate</td>\n",
       "      <td>101</td>\n",
       "      <td>0.20</td>\n",
       "      <td>20.20</td>\n",
       "    </tr>\n",
       "  </tbody>\n",
       "</table>\n",
       "</div>"
      ],
      "text/plain": [
       "   Date_commande  Fournisseur_id   Produit  Quantité  Prix_unitaire  \\\n",
       "9     2020-01-01               8   Céréale        35           1.25   \n",
       "10    2020-01-01               1  Chocolat        46           1.25   \n",
       "11    2020-01-01               9   Carotte        65           0.35   \n",
       "12    2020-01-01              10       Eau        68           0.15   \n",
       "13    2020-01-01               4    Tomate       101           0.20   \n",
       "\n",
       "    Total_achat  \n",
       "9         43.75  \n",
       "10        57.50  \n",
       "11        22.75  \n",
       "12        10.20  \n",
       "13        20.20  "
      ]
     },
     "execution_count": 20,
     "metadata": {},
     "output_type": "execute_result"
    }
   ],
   "source": [
    "df.tail()"
   ]
  },
  {
   "cell_type": "code",
   "execution_count": 21,
   "id": "db34e336-67d9-4312-9c0c-664ca0a7e54c",
   "metadata": {
    "canvas": {
     "comments": [],
     "componentType": "CodeCell",
     "copiedOriginId": null,
     "diskcache": false,
     "headerColor": "none",
     "id": "bc893861-8dbb-4dbb-a1b9-789c234aa187",
     "isComponent": false,
     "name": "",
     "parents": []
    }
   },
   "outputs": [
    {
     "data": {
      "text/plain": [
       "(14, 6)"
      ]
     },
     "execution_count": 21,
     "metadata": {},
     "output_type": "execute_result"
    }
   ],
   "source": [
    "df.shape"
   ]
  },
  {
   "cell_type": "code",
   "execution_count": 47,
   "id": "7381eb02-b51c-4cb9-bd95-feb5f8ac45c6",
   "metadata": {
    "canvas": {
     "comments": [],
     "componentType": "CodeCell",
     "copiedOriginId": null,
     "diskcache": false,
     "headerColor": "none",
     "id": "62f9e72c-69c7-4ad3-bec7-2b61cc1dcd9d",
     "isComponent": false,
     "name": "",
     "parents": []
    }
   },
   "outputs": [
    {
     "data": {
      "text/plain": [
       "Index(['Date_commande', 'Fournisseur_id', 'Produit', 'Quantité',\n",
       "       'Prix_unitaire', 'Total_achat'],\n",
       "      dtype='object')"
      ]
     },
     "execution_count": 47,
     "metadata": {},
     "output_type": "execute_result"
    }
   ],
   "source": [
    "df.columns"
   ]
  },
  {
   "cell_type": "code",
   "execution_count": 48,
   "id": "df604b98-5941-4e36-a02b-e0b215736146",
   "metadata": {
    "canvas": {
     "comments": [],
     "componentType": "CodeCell",
     "copiedOriginId": null,
     "diskcache": false,
     "headerColor": "none",
     "id": "f6329ce5-c65f-4827-bf39-817f1677024b",
     "isComponent": false,
     "name": "",
     "parents": []
    }
   },
   "outputs": [
    {
     "data": {
      "text/plain": [
       "Date_commande     datetime64[ns]\n",
       "Fournisseur_id             int64\n",
       "Produit                   object\n",
       "Quantité                   int64\n",
       "Prix_unitaire            float64\n",
       "Total_achat              float64\n",
       "dtype: object"
      ]
     },
     "execution_count": 48,
     "metadata": {},
     "output_type": "execute_result"
    }
   ],
   "source": [
    "df.dtypes"
   ]
  },
  {
   "cell_type": "code",
   "execution_count": 49,
   "id": "8cb54461-6d2b-401d-8360-d9dfe84fa54a",
   "metadata": {
    "canvas": {
     "comments": [],
     "componentType": "CodeCell",
     "copiedOriginId": null,
     "diskcache": false,
     "headerColor": "none",
     "id": "a16541d3-e080-4180-ab41-67b9de1f562c",
     "isComponent": false,
     "name": "",
     "parents": []
    }
   },
   "outputs": [
    {
     "name": "stdout",
     "output_type": "stream",
     "text": [
      "<class 'pandas.core.frame.DataFrame'>\n",
      "RangeIndex: 14 entries, 0 to 13\n",
      "Data columns (total 6 columns):\n",
      " #   Column          Non-Null Count  Dtype         \n",
      "---  ------          --------------  -----         \n",
      " 0   Date_commande   14 non-null     datetime64[ns]\n",
      " 1   Fournisseur_id  14 non-null     int64         \n",
      " 2   Produit         14 non-null     object        \n",
      " 3   Quantité        14 non-null     int64         \n",
      " 4   Prix_unitaire   14 non-null     float64       \n",
      " 5   Total_achat     14 non-null     float64       \n",
      "dtypes: datetime64[ns](1), float64(2), int64(2), object(1)\n",
      "memory usage: 800.0+ bytes\n"
     ]
    }
   ],
   "source": [
    "df.info()"
   ]
  },
  {
   "cell_type": "code",
   "execution_count": 50,
   "id": "edb5ccb2-afd6-4a09-aae7-69127f330717",
   "metadata": {
    "canvas": {
     "comments": [],
     "componentType": "CodeCell",
     "copiedOriginId": null,
     "diskcache": false,
     "headerColor": "none",
     "id": "74d2db7a-7d3a-47a6-a4ee-6553006c3436",
     "isComponent": false,
     "name": "",
     "parents": []
    }
   },
   "outputs": [
    {
     "data": {
      "text/plain": [
       "Date_commande     14\n",
       "Fournisseur_id    14\n",
       "Produit           14\n",
       "Quantité          14\n",
       "Prix_unitaire     14\n",
       "Total_achat       14\n",
       "dtype: int64"
      ]
     },
     "execution_count": 50,
     "metadata": {},
     "output_type": "execute_result"
    }
   ],
   "source": [
    "df.count()"
   ]
  },
  {
   "cell_type": "code",
   "execution_count": 51,
   "id": "e5f1be66-c855-4ad3-af06-2f790ddc03b1",
   "metadata": {
    "canvas": {
     "comments": [],
     "componentType": "CodeCell",
     "copiedOriginId": null,
     "diskcache": false,
     "headerColor": "none",
     "id": "c6293c5d-47c1-4a97-9d2e-b6b1356a9839",
     "isComponent": false,
     "name": "",
     "parents": []
    }
   },
   "outputs": [
    {
     "data": {
      "text/html": [
       "<div>\n",
       "<style scoped>\n",
       "    .dataframe tbody tr th:only-of-type {\n",
       "        vertical-align: middle;\n",
       "    }\n",
       "\n",
       "    .dataframe tbody tr th {\n",
       "        vertical-align: top;\n",
       "    }\n",
       "\n",
       "    .dataframe thead th {\n",
       "        text-align: right;\n",
       "    }\n",
       "</style>\n",
       "<table border=\"1\" class=\"dataframe\">\n",
       "  <thead>\n",
       "    <tr style=\"text-align: right;\">\n",
       "      <th></th>\n",
       "      <th>Fournisseur_id</th>\n",
       "      <th>Quantité</th>\n",
       "      <th>Prix_unitaire</th>\n",
       "      <th>Total_achat</th>\n",
       "    </tr>\n",
       "  </thead>\n",
       "  <tbody>\n",
       "    <tr>\n",
       "      <th>count</th>\n",
       "      <td>14.000000</td>\n",
       "      <td>14.000000</td>\n",
       "      <td>14.000000</td>\n",
       "      <td>14.000000</td>\n",
       "    </tr>\n",
       "    <tr>\n",
       "      <th>mean</th>\n",
       "      <td>5.071429</td>\n",
       "      <td>46.214286</td>\n",
       "      <td>0.753571</td>\n",
       "      <td>30.346429</td>\n",
       "    </tr>\n",
       "    <tr>\n",
       "      <th>std</th>\n",
       "      <td>2.973325</td>\n",
       "      <td>27.001933</td>\n",
       "      <td>0.427184</td>\n",
       "      <td>22.617960</td>\n",
       "    </tr>\n",
       "    <tr>\n",
       "      <th>min</th>\n",
       "      <td>1.000000</td>\n",
       "      <td>8.000000</td>\n",
       "      <td>0.150000</td>\n",
       "      <td>6.000000</td>\n",
       "    </tr>\n",
       "    <tr>\n",
       "      <th>25%</th>\n",
       "      <td>3.000000</td>\n",
       "      <td>32.000000</td>\n",
       "      <td>0.362500</td>\n",
       "      <td>10.900000</td>\n",
       "    </tr>\n",
       "    <tr>\n",
       "      <th>50%</th>\n",
       "      <td>4.500000</td>\n",
       "      <td>43.000000</td>\n",
       "      <td>1.000000</td>\n",
       "      <td>26.775000</td>\n",
       "    </tr>\n",
       "    <tr>\n",
       "      <th>75%</th>\n",
       "      <td>7.750000</td>\n",
       "      <td>65.000000</td>\n",
       "      <td>1.000000</td>\n",
       "      <td>42.812500</td>\n",
       "    </tr>\n",
       "    <tr>\n",
       "      <th>max</th>\n",
       "      <td>10.000000</td>\n",
       "      <td>101.000000</td>\n",
       "      <td>1.250000</td>\n",
       "      <td>81.250000</td>\n",
       "    </tr>\n",
       "  </tbody>\n",
       "</table>\n",
       "</div>"
      ],
      "text/plain": [
       "       Fournisseur_id    Quantité  Prix_unitaire  Total_achat\n",
       "count       14.000000   14.000000      14.000000    14.000000\n",
       "mean         5.071429   46.214286       0.753571    30.346429\n",
       "std          2.973325   27.001933       0.427184    22.617960\n",
       "min          1.000000    8.000000       0.150000     6.000000\n",
       "25%          3.000000   32.000000       0.362500    10.900000\n",
       "50%          4.500000   43.000000       1.000000    26.775000\n",
       "75%          7.750000   65.000000       1.000000    42.812500\n",
       "max         10.000000  101.000000       1.250000    81.250000"
      ]
     },
     "execution_count": 51,
     "metadata": {},
     "output_type": "execute_result"
    }
   ],
   "source": [
    "df.describe()"
   ]
  },
  {
   "cell_type": "code",
   "execution_count": 52,
   "id": "7d6efe7d-7d6b-4f83-8902-cbd056ed548e",
   "metadata": {
    "canvas": {
     "comments": [],
     "componentType": "CodeCell",
     "copiedOriginId": null,
     "diskcache": false,
     "headerColor": "none",
     "id": "af749953-ea15-4bad-9bd0-cf9a97f40776",
     "isComponent": false,
     "name": "",
     "parents": []
    }
   },
   "outputs": [
    {
     "name": "stdout",
     "output_type": "stream",
     "text": [
      "Tomate      2\n",
      "Pain        2\n",
      "Chocolat    2\n",
      "Riz         2\n",
      "Salade      1\n",
      "Pâte        1\n",
      "Pomme       1\n",
      "Céréale     1\n",
      "Carotte     1\n",
      "Eau         1\n",
      "Name: Produit, dtype: int64 32     2\n",
      "65     2\n",
      "77     1\n",
      "8      1\n",
      "53     1\n",
      "12     1\n",
      "13     1\n",
      "40     1\n",
      "35     1\n",
      "46     1\n",
      "68     1\n",
      "101    1\n",
      "Name: Quantité, dtype: int64 1.00    5\n",
      "1.25    3\n",
      "0.20    2\n",
      "0.40    1\n",
      "0.50    1\n",
      "0.35    1\n",
      "0.15    1\n",
      "Name: Prix_unitaire, dtype: int64\n"
     ]
    }
   ],
   "source": [
    "print(df[\"Produit\"].value_counts(), df[\"Quantité\"].value_counts(), df[\"Prix_unitaire\"].value_counts())"
   ]
  },
  {
   "cell_type": "code",
   "execution_count": 53,
   "id": "b8a718a8-c04b-4835-a5d8-fc390035ecb9",
   "metadata": {
    "canvas": {
     "comments": [],
     "componentType": "CodeCell",
     "copiedOriginId": null,
     "diskcache": false,
     "headerColor": "none",
     "id": "f5522afa-4af8-40e2-84ed-6bfe8c0538b2",
     "isComponent": false,
     "name": "",
     "parents": []
    }
   },
   "outputs": [
    {
     "data": {
      "text/plain": [
       "4"
      ]
     },
     "execution_count": 53,
     "metadata": {},
     "output_type": "execute_result"
    }
   ],
   "source": [
    "df[\"Produit\"].duplicated().sum()"
   ]
  },
  {
   "cell_type": "code",
   "execution_count": 54,
   "id": "cdc99cec-daa6-405f-ba45-b929bee66fed",
   "metadata": {
    "canvas": {
     "comments": [],
     "componentType": "CodeCell",
     "copiedOriginId": null,
     "diskcache": false,
     "headerColor": "none",
     "id": "188f9a88-597d-44b6-aa96-74404a471a3c",
     "isComponent": false,
     "name": "",
     "parents": []
    }
   },
   "outputs": [
    {
     "data": {
      "text/plain": [
       "2"
      ]
     },
     "execution_count": 54,
     "metadata": {},
     "output_type": "execute_result"
    }
   ],
   "source": [
    "df[\"Quantité\"].duplicated().sum()"
   ]
  },
  {
   "cell_type": "code",
   "execution_count": 55,
   "id": "5a7332d8-b9b7-4f6b-b054-c95b40680078",
   "metadata": {
    "canvas": {
     "comments": [],
     "componentType": "CodeCell",
     "copiedOriginId": null,
     "diskcache": false,
     "headerColor": "none",
     "id": "e6c2d658-683a-440d-b969-6b880c744b26",
     "isComponent": false,
     "name": "",
     "parents": []
    }
   },
   "outputs": [
    {
     "data": {
      "text/plain": [
       "7"
      ]
     },
     "execution_count": 55,
     "metadata": {},
     "output_type": "execute_result"
    }
   ],
   "source": [
    "df[\"Prix_unitaire\"].duplicated().sum()"
   ]
  },
  {
   "cell_type": "code",
   "execution_count": 56,
   "id": "0ecb3d9e-ce61-479b-b4dc-901af9f5948e",
   "metadata": {
    "canvas": {
     "comments": [],
     "componentType": "CodeCell",
     "copiedOriginId": null,
     "diskcache": false,
     "headerColor": "none",
     "id": "e64615fc-d9ab-4174-bfdc-cfb93b0b825a",
     "isComponent": false,
     "name": "",
     "parents": []
    }
   },
   "outputs": [
    {
     "data": {
      "text/plain": [
       "0"
      ]
     },
     "execution_count": 56,
     "metadata": {},
     "output_type": "execute_result"
    }
   ],
   "source": [
    "df[\"Total_achat\"].duplicated().sum()"
   ]
  },
  {
   "cell_type": "code",
   "execution_count": 57,
   "id": "6871d852-5c4c-4acc-8df2-832ea6065d8b",
   "metadata": {
    "canvas": {
     "comments": [],
     "componentType": "CodeCell",
     "copiedOriginId": null,
     "diskcache": false,
     "headerColor": "none",
     "id": "a88bcecc-127a-4c04-aa03-89912c3ae43d",
     "isComponent": false,
     "name": "",
     "parents": []
    }
   },
   "outputs": [
    {
     "data": {
      "text/plain": [
       "0"
      ]
     },
     "execution_count": 57,
     "metadata": {},
     "output_type": "execute_result"
    }
   ],
   "source": [
    "df.duplicated().sum()"
   ]
  },
  {
   "cell_type": "code",
   "execution_count": 61,
   "id": "756623b9-1631-463d-986d-7a36ad487dc4",
   "metadata": {
    "canvas": {
     "comments": [],
     "componentType": "CodeCell",
     "copiedOriginId": null,
     "diskcache": false,
     "headerColor": "none",
     "id": "675580e2-ef6c-4df4-99f5-bd40f5b6d2cd",
     "isComponent": false,
     "name": "",
     "parents": []
    }
   },
   "outputs": [
    {
     "data": {
      "text/plain": [
       "10"
      ]
     },
     "execution_count": 61,
     "metadata": {},
     "output_type": "execute_result"
    }
   ],
   "source": [
    "df[\"Produit\"].nunique()"
   ]
  },
  {
   "cell_type": "code",
   "execution_count": 62,
   "id": "aaf61484-7ef2-44e5-a812-6aba2d502c88",
   "metadata": {
    "canvas": {
     "comments": [],
     "componentType": "CodeCell",
     "copiedOriginId": null,
     "diskcache": false,
     "headerColor": "none",
     "id": "55644ed2-062f-41b8-9c62-76c9e0abf140",
     "isComponent": false,
     "name": "",
     "parents": []
    }
   },
   "outputs": [
    {
     "data": {
      "text/plain": [
       "12"
      ]
     },
     "execution_count": 62,
     "metadata": {},
     "output_type": "execute_result"
    }
   ],
   "source": [
    "df[\"Quantité\"].nunique()"
   ]
  },
  {
   "cell_type": "code",
   "execution_count": 63,
   "id": "e2c878bd-4d47-4808-9e3d-ebead9c78eb9",
   "metadata": {
    "canvas": {
     "comments": [],
     "componentType": "CodeCell",
     "copiedOriginId": null,
     "diskcache": false,
     "headerColor": "none",
     "id": "37df6ce1-ee00-4dff-a9e1-7c3e72418035",
     "isComponent": false,
     "name": "",
     "parents": []
    }
   },
   "outputs": [
    {
     "data": {
      "text/plain": [
       "7"
      ]
     },
     "execution_count": 63,
     "metadata": {},
     "output_type": "execute_result"
    }
   ],
   "source": [
    "df[\"Prix_unitaire\"].nunique()"
   ]
  },
  {
   "cell_type": "code",
   "execution_count": 64,
   "id": "05c2495e-c96b-4892-a82d-6194649e2af0",
   "metadata": {
    "canvas": {
     "comments": [],
     "componentType": "CodeCell",
     "copiedOriginId": null,
     "diskcache": false,
     "headerColor": "none",
     "id": "e6eb90e6-aa88-4496-a8bf-9e881cd3d5b4",
     "isComponent": false,
     "name": "",
     "parents": []
    }
   },
   "outputs": [
    {
     "data": {
      "text/plain": [
       "14"
      ]
     },
     "execution_count": 64,
     "metadata": {},
     "output_type": "execute_result"
    }
   ],
   "source": [
    "df[\"Total_achat\"].nunique()"
   ]
  },
  {
   "cell_type": "code",
   "execution_count": 65,
   "id": "7369a6ad-64a4-45bd-a616-ce1e3e4f90cf",
   "metadata": {
    "canvas": {
     "comments": [],
     "componentType": "CodeCell",
     "copiedOriginId": null,
     "diskcache": false,
     "headerColor": "none",
     "id": "badca2ec-a584-48fa-a8fb-0099e6269974",
     "isComponent": false,
     "name": "",
     "parents": []
    }
   },
   "outputs": [
    {
     "data": {
      "text/plain": [
       "Date_commande      2\n",
       "Fournisseur_id    10\n",
       "Produit           10\n",
       "Quantité          12\n",
       "Prix_unitaire      7\n",
       "Total_achat       14\n",
       "dtype: int64"
      ]
     },
     "execution_count": 65,
     "metadata": {},
     "output_type": "execute_result"
    }
   ],
   "source": [
    "df.nunique()"
   ]
  },
  {
   "cell_type": "code",
   "execution_count": 66,
   "id": "5bdc4eec-7c32-4e2a-96fd-9d0e8dcd963c",
   "metadata": {
    "canvas": {
     "comments": [],
     "componentType": "CodeCell",
     "copiedOriginId": null,
     "diskcache": false,
     "headerColor": "none",
     "id": "d0ef0c27-1625-4167-832a-9e4c004bae9a",
     "isComponent": false,
     "name": "",
     "parents": []
    }
   },
   "outputs": [
    {
     "data": {
      "text/plain": [
       "{'Carotte',\n",
       " 'Chocolat',\n",
       " 'Céréale',\n",
       " 'Eau',\n",
       " 'Pain',\n",
       " 'Pomme',\n",
       " 'Pâte',\n",
       " 'Riz',\n",
       " 'Salade',\n",
       " 'Tomate'}"
      ]
     },
     "execution_count": 66,
     "metadata": {},
     "output_type": "execute_result"
    }
   ],
   "source": [
    "set(df[\"Produit\"])"
   ]
  },
  {
   "cell_type": "code",
   "execution_count": 67,
   "id": "3f78a753-494a-4fb0-b4e0-5892b1d2f933",
   "metadata": {
    "canvas": {
     "comments": [],
     "componentType": "CodeCell",
     "copiedOriginId": null,
     "diskcache": false,
     "headerColor": "none",
     "id": "875e25ab-7be2-4dd3-8a53-827b5c8e0446",
     "isComponent": false,
     "name": "",
     "parents": []
    }
   },
   "outputs": [
    {
     "data": {
      "text/plain": [
       "Date_commande     0\n",
       "Fournisseur_id    0\n",
       "Produit           0\n",
       "Quantité          0\n",
       "Prix_unitaire     0\n",
       "Total_achat       0\n",
       "dtype: int64"
      ]
     },
     "execution_count": 67,
     "metadata": {},
     "output_type": "execute_result"
    }
   ],
   "source": [
    "df.isnull().sum()"
   ]
  },
  {
   "cell_type": "code",
   "execution_count": 68,
   "id": "7c2241a3-1d59-4483-92ad-bcc56bf772ed",
   "metadata": {
    "canvas": {
     "comments": [],
     "componentType": "CodeCell",
     "copiedOriginId": null,
     "diskcache": false,
     "headerColor": "none",
     "id": "873bfcb9-9100-4717-8329-a9ae66cae8fe",
     "isComponent": false,
     "name": "",
     "parents": []
    }
   },
   "outputs": [
    {
     "data": {
      "text/plain": [
       "0"
      ]
     },
     "execution_count": 68,
     "metadata": {},
     "output_type": "execute_result"
    }
   ],
   "source": [
    "df.isna().sum().sum()"
   ]
  },
  {
   "cell_type": "markdown",
   "id": "7c3d90f9-fd8e-4559-8c93-8bc60a790553",
   "metadata": {
    "canvas": {
     "comments": [],
     "componentType": "CodeCell",
     "copiedOriginId": null,
     "diskcache": false,
     "headerColor": "none",
     "id": "a250f591-9033-43ab-8875-14b3ab040624",
     "isComponent": false,
     "name": "",
     "parents": []
    }
   },
   "source": [
    "## Statistical Significance Tests and Visualization"
   ]
  },
  {
   "cell_type": "markdown",
   "id": "f15053d9-f3cd-4aa0-ab39-e13f92d19ea5",
   "metadata": {
    "canvas": {
     "comments": [],
     "componentType": "CodeCell",
     "copiedOriginId": null,
     "diskcache": false,
     "headerColor": "none",
     "id": "c4f52341-025e-427a-ad42-4392b39aaba2",
     "isComponent": false,
     "name": "",
     "parents": []
    }
   },
   "source": [
    "##### In statistics, statistical significance means that the result that was produced has a reason behind it, it was not produced randomly, or by chance."
   ]
  },
  {
   "cell_type": "code",
   "execution_count": 69,
   "id": "53a8043d-cf6e-48e8-950a-c490f4f1fbc7",
   "metadata": {
    "canvas": {
     "comments": [],
     "componentType": "CodeCell",
     "copiedOriginId": null,
     "diskcache": false,
     "headerColor": "none",
     "id": "0a2cdd02-c812-45e8-acc3-91ad1315b187",
     "isComponent": false,
     "name": "",
     "parents": []
    }
   },
   "outputs": [],
   "source": [
    "from scipy.stats import kstest"
   ]
  },
  {
   "cell_type": "code",
   "execution_count": 70,
   "id": "629072d5-4a74-421a-aa93-3519f9a766a4",
   "metadata": {
    "canvas": {
     "comments": [],
     "componentType": "CodeCell",
     "copiedOriginId": null,
     "diskcache": false,
     "headerColor": "none",
     "id": "6b7ae061-b6a5-419a-9bf1-4b4f81487c6c",
     "isComponent": false,
     "name": "",
     "parents": []
    }
   },
   "outputs": [
    {
     "data": {
      "text/plain": [
       "KstestResult(statistic=0.9999999999999993, pvalue=6.77471013944685e-213)"
      ]
     },
     "execution_count": 70,
     "metadata": {},
     "output_type": "execute_result"
    }
   ],
   "source": [
    "# Statistic test (normal distribution)\n",
    "kstest(df[\"Quantité\"], 'norm')"
   ]
  },
  {
   "cell_type": "code",
   "execution_count": 71,
   "id": "2256d4a2-2362-4421-9f75-3340da7ec5cd",
   "metadata": {
    "canvas": {
     "comments": [],
     "componentType": "CodeCell",
     "copiedOriginId": null,
     "diskcache": false,
     "headerColor": "none",
     "id": "6b061edb-1084-46af-8918-ce8fd9e1ab4d",
     "isComponent": false,
     "name": "",
     "parents": []
    }
   },
   "outputs": [
    {
     "data": {
      "text/plain": [
       "KstestResult(statistic=0.5596176923702425, pvalue=0.00011671309141325304)"
      ]
     },
     "execution_count": 71,
     "metadata": {},
     "output_type": "execute_result"
    }
   ],
   "source": [
    "# Statistic test (normal distribution)\n",
    "kstest(df[\"Prix_unitaire\"], 'norm')"
   ]
  },
  {
   "cell_type": "code",
   "execution_count": 72,
   "id": "e2847104-e650-4a79-a153-c131b8bb809c",
   "metadata": {
    "canvas": {
     "comments": [],
     "componentType": "CodeCell",
     "copiedOriginId": null,
     "diskcache": false,
     "headerColor": "none",
     "id": "302defa7-b1e4-4541-8efb-0b04696e4fa6",
     "isComponent": false,
     "name": "",
     "parents": []
    }
   },
   "outputs": [
    {
     "name": "stderr",
     "output_type": "stream",
     "text": [
      "C:\\Users\\Rostaing\\anaconda3\\lib\\site-packages\\seaborn\\distributions.py:2619: FutureWarning: `distplot` is a deprecated function and will be removed in a future version. Please adapt your code to use either `displot` (a figure-level function with similar flexibility) or `histplot` (an axes-level function for histograms).\n",
      "  warnings.warn(msg, FutureWarning)\n",
      "C:\\Users\\Rostaing\\anaconda3\\lib\\site-packages\\seaborn\\distributions.py:2619: FutureWarning: `distplot` is a deprecated function and will be removed in a future version. Please adapt your code to use either `displot` (a figure-level function with similar flexibility) or `histplot` (an axes-level function for histograms).\n",
      "  warnings.warn(msg, FutureWarning)\n"
     ]
    },
    {
     "data": {
      "image/png": "[encoded data removed]",
      "text/plain": [
       "<Figure size 864x288 with 2 Axes>"
      ]
     },
     "metadata": {
      "needs_background": "light"
     },
     "output_type": "display_data"
    }
   ],
   "source": [
    "# Visualization (normal distrubution)\n",
    "plt.figure(figsize=(12, 4));\n",
    "plt.subplot(121);\n",
    "sns.distplot(df[\"Quantité\"], bins=5);\n",
    "plt.subplot(122)\n",
    "sns.distplot(df[\"Prix_unitaire\"], bins=5);"
   ]
  },
  {
   "cell_type": "code",
   "execution_count": 74,
   "id": "c4a5105e-2d4c-4a83-9482-7c30882f6fb4",
   "metadata": {
    "canvas": {
     "comments": [],
     "componentType": "CodeCell",
     "copiedOriginId": null,
     "diskcache": false,
     "headerColor": "none",
     "id": "15f81c68-9113-436b-9a48-1755be5ebfc9",
     "isComponent": false,
     "name": "",
     "parents": []
    }
   },
   "outputs": [],
   "source": [
    "# Statistic test (normal distribution)\n",
    "kstest(df[\"Total_achat\"], 'norm');"
   ]
  },
  {
   "cell_type": "code",
   "execution_count": 9,
   "id": "a613545d-7b2e-46d0-a6fd-44d8cf261237",
   "metadata": {
    "canvas": {
     "comments": [],
     "componentType": "CodeCell",
     "copiedOriginId": null,
     "diskcache": false,
     "headerColor": "none",
     "id": "7c76b8d2-1e83-4f12-903e-6e63086ae670",
     "isComponent": false,
     "name": "",
     "parents": []
    }
   },
   "outputs": [
    {
     "name": "stderr",
     "output_type": "stream",
     "text": [
      "C:\\Users\\Rostaing\\anaconda3\\lib\\site-packages\\seaborn\\distributions.py:2619: FutureWarning: `distplot` is a deprecated function and will be removed in a future version. Please adapt your code to use either `displot` (a figure-level function with similar flexibility) or `histplot` (an axes-level function for histograms).\n",
      "  warnings.warn(msg, FutureWarning)\n"
     ]
    },
    {
     "data": {
      "image/png": "[encoded data removed]",
      "text/plain": [
       "<Figure size 640x480 with 1 Axes>"
      ]
     },
     "metadata": {},
     "output_type": "display_data"
    }
   ],
   "source": [
    "# Visualization (normal distrubution)\n",
    "sns.distplot(x=df.Total_achat, bins=5);"
   ]
  },
  {
   "cell_type": "code",
   "execution_count": 76,
   "id": "291e85ea-dd22-4280-bbca-191c223e7d2c",
   "metadata": {
    "canvas": {
     "comments": [],
     "componentType": "CodeCell",
     "copiedOriginId": null,
     "diskcache": false,
     "headerColor": "none",
     "id": "4f2d0e9c-c950-4df9-b66f-ef2013422711",
     "isComponent": false,
     "name": "",
     "parents": []
    }
   },
   "outputs": [],
   "source": [
    "from scipy import stats\n",
    "from scipy.stats import ttest_ind"
   ]
  },
  {
   "cell_type": "code",
   "execution_count": 77,
   "id": "cb409351-cb72-4509-b287-edda4f9df686",
   "metadata": {
    "canvas": {
     "comments": [],
     "componentType": "CodeCell",
     "copiedOriginId": null,
     "diskcache": false,
     "headerColor": "none",
     "id": "e179932e-9d94-48a5-b634-df3050a7f6c3",
     "isComponent": false,
     "name": "",
     "parents": []
    }
   },
   "outputs": [],
   "source": [
    "pearson_coef, p_value = stats.pearsonr(df[\"Quantité\"], df[\"Total_achat\"])"
   ]
  },
  {
   "cell_type": "code",
   "execution_count": 78,
   "id": "0ef6008a-38d9-4f2f-92e4-756226509d3d",
   "metadata": {
    "canvas": {
     "comments": [],
     "componentType": "CodeCell",
     "copiedOriginId": null,
     "diskcache": false,
     "headerColor": "none",
     "id": "8d32317f-e15d-46dd-b258-0cf6871b15f4",
     "isComponent": false,
     "name": "",
     "parents": []
    }
   },
   "outputs": [
    {
     "name": "stdout",
     "output_type": "stream",
     "text": [
      "pearson_coef: 0.29602858116092734 \n",
      "p-value: 0.3041201406934369\n"
     ]
    }
   ],
   "source": [
    "print(\"pearson_coef: {} \\np-value: {}\".format(pearson_coef, p_value))"
   ]
  },
  {
   "cell_type": "code",
   "execution_count": 79,
   "id": "f9380d36-9f1a-489c-8fd2-056e74748324",
   "metadata": {
    "canvas": {
     "comments": [],
     "componentType": "CodeCell",
     "copiedOriginId": null,
     "diskcache": false,
     "headerColor": "none",
     "id": "30b47c83-38c1-445b-ad1d-26a456cde1ca",
     "isComponent": false,
     "name": "",
     "parents": []
    }
   },
   "outputs": [
    {
     "data": {
      "text/plain": [
       "Ttest_indResult(statistic=1.685594176260556, pvalue=0.10384061112283817)"
      ]
     },
     "execution_count": 79,
     "metadata": {},
     "output_type": "execute_result"
    }
   ],
   "source": [
    "# T-tests are used to determine if there is significant deference between means of two variables. \n",
    "# and lets us know if they belong to the same distribution.\n",
    "ttest_ind(df[\"Quantité\"], df[\"Total_achat\"])"
   ]
  },
  {
   "cell_type": "code",
   "execution_count": 81,
   "id": "53d73a74-98c3-437f-b6d1-d622b1b11124",
   "metadata": {
    "canvas": {
     "comments": [],
     "componentType": "CodeCell",
     "copiedOriginId": null,
     "diskcache": false,
     "headerColor": "none",
     "id": "2800a068-000c-48ed-9026-708850f3bd8e",
     "isComponent": false,
     "name": "",
     "parents": []
    }
   },
   "outputs": [
    {
     "data": {
      "image/png": "[encoded data removed]",
      "text/plain": [
       "<Figure size 432x288 with 1 Axes>"
      ]
     },
     "metadata": {
      "needs_background": "light"
     },
     "output_type": "display_data"
    }
   ],
   "source": [
    "sns.regplot(x=\"Quantité\", y=\"Total_achat\", data=df);\n",
    "plt.legend(df[[\"Quantité\", \"Total_achat\"]]);"
   ]
  },
  {
   "cell_type": "code",
   "execution_count": 82,
   "id": "30f2a528-99e3-4d24-8690-3bceb29831f7",
   "metadata": {
    "canvas": {
     "comments": [],
     "componentType": "CodeCell",
     "copiedOriginId": null,
     "diskcache": false,
     "headerColor": "none",
     "id": "f88418cf-6cf1-4891-abde-afdc5089840c",
     "isComponent": false,
     "name": "",
     "parents": []
    }
   },
   "outputs": [],
   "source": [
    "pearson_coef, p_value = stats.pearsonr(df[\"Prix_unitaire\"], df[\"Total_achat\"]);"
   ]
  },
  {
   "cell_type": "code",
   "execution_count": 83,
   "id": "04fdfbb5-0c54-4b58-9b6e-be74c6a27bbe",
   "metadata": {
    "canvas": {
     "comments": [],
     "componentType": "CodeCell",
     "copiedOriginId": null,
     "diskcache": false,
     "headerColor": "none",
     "id": "0466c75e-4bd0-484e-9712-3f9ec909e5a1",
     "isComponent": false,
     "name": "",
     "parents": []
    }
   },
   "outputs": [
    {
     "name": "stdout",
     "output_type": "stream",
     "text": [
      "pearson_coef: 0.6695730413268879 \n",
      "p-value: 0.00880841424307724\n"
     ]
    }
   ],
   "source": [
    "print(\"pearson_coef: {} \\np-value: {}\".format(pearson_coef, p_value));"
   ]
  },
  {
   "cell_type": "code",
   "execution_count": 84,
   "id": "b87baf0a-7733-4637-bd53-cf499a78aadf",
   "metadata": {
    "canvas": {
     "comments": [],
     "componentType": "CodeCell",
     "copiedOriginId": null,
     "diskcache": false,
     "headerColor": "none",
     "id": "e2321dae-07b1-44e2-9868-1e93033969db",
     "isComponent": false,
     "name": "",
     "parents": []
    }
   },
   "outputs": [
    {
     "data": {
      "text/plain": [
       "Ttest_indResult(statistic=-4.894631975775915, pvalue=4.4378853519131085e-05)"
      ]
     },
     "execution_count": 84,
     "metadata": {},
     "output_type": "execute_result"
    }
   ],
   "source": [
    "# T-tests are used to determine if there is significant deference between means of two variables. \n",
    "# and lets us know if they belong to the same distribution.\n",
    "ttest_ind(df[\"Prix_unitaire\"], df[\"Total_achat\"])"
   ]
  },
  {
   "cell_type": "code",
   "execution_count": 86,
   "id": "54a44d4a-0011-4156-94cc-c9972bb88b05",
   "metadata": {
    "canvas": {
     "comments": [],
     "componentType": "CodeCell",
     "copiedOriginId": null,
     "diskcache": false,
     "headerColor": "none",
     "id": "26dd51e4-9f79-470c-aed7-89a62bb6fc1f",
     "isComponent": false,
     "name": "",
     "parents": []
    }
   },
   "outputs": [
    {
     "data": {
      "image/png": "[encoded data removed]",
      "text/plain": [
       "<Figure size 432x288 with 1 Axes>"
      ]
     },
     "metadata": {
      "needs_background": "light"
     },
     "output_type": "display_data"
    }
   ],
   "source": [
    "sns.regplot(x=\"Prix_unitaire\", y=\"Total_achat\", data=df);\n",
    "plt.legend(df[[\"Prix_unitaire\", \"Total_achat\"]]);"
   ]
  },
  {
   "cell_type": "code",
   "execution_count": 87,
   "id": "3ad649c1-5b1e-49ea-9e9d-9e93f19ccccd",
   "metadata": {
    "canvas": {
     "comments": [],
     "componentType": "CodeCell",
     "copiedOriginId": null,
     "diskcache": false,
     "headerColor": "none",
     "id": "70d5a3ed-779c-4129-8318-e8a4318c7f5a",
     "isComponent": false,
     "name": "",
     "parents": []
    }
   },
   "outputs": [
    {
     "data": {
      "image/png": "[encoded data removed]",
      "text/plain": [
       "<Figure size 432x288 with 2 Axes>"
      ]
     },
     "metadata": {
      "needs_background": "light"
     },
     "output_type": "display_data"
    }
   ],
   "source": [
    "sns.heatmap(df.corr(), annot=True, linewidths=3);"
   ]
  },
  {
   "cell_type": "code",
   "execution_count": 88,
   "id": "2155992a-6817-40ff-9fa8-7b90982e154f",
   "metadata": {
    "canvas": {
     "comments": [],
     "componentType": "CodeCell",
     "copiedOriginId": null,
     "diskcache": false,
     "headerColor": "none",
     "id": "7c3c3aa7-ea48-41dc-9659-220d3f61948c",
     "isComponent": false,
     "name": "",
     "parents": []
    }
   },
   "outputs": [
    {
     "data": {
      "image/png": "[encoded data removed]",
      "text/plain": [
       "<Figure size 720x720 with 20 Axes>"
      ]
     },
     "metadata": {
      "needs_background": "light"
     },
     "output_type": "display_data"
    }
   ],
   "source": [
    "sns.pairplot(df);\n",
    "plt.legend(df);"
   ]
  },
  {
   "cell_type": "code",
   "execution_count": 89,
   "id": "8fa4b5b9-44e9-4ff7-9056-be69883528a8",
   "metadata": {
    "canvas": {
     "comments": [],
     "componentType": "CodeCell",
     "copiedOriginId": null,
     "diskcache": false,
     "headerColor": "none",
     "id": "ca84ece4-919f-4768-bd3d-e42b51f0e52a",
     "isComponent": false,
     "name": "",
     "parents": []
    }
   },
   "outputs": [
    {
     "data": {
      "text/html": [
       "<div>\n",
       "<style scoped>\n",
       "    .dataframe tbody tr th:only-of-type {\n",
       "        vertical-align: middle;\n",
       "    }\n",
       "\n",
       "    .dataframe tbody tr th {\n",
       "        vertical-align: top;\n",
       "    }\n",
       "\n",
       "    .dataframe thead th {\n",
       "        text-align: right;\n",
       "    }\n",
       "</style>\n",
       "<table border=\"1\" class=\"dataframe\">\n",
       "  <thead>\n",
       "    <tr style=\"text-align: right;\">\n",
       "      <th></th>\n",
       "      <th>Date</th>\n",
       "      <th>Fournisseur_id</th>\n",
       "      <th>Produit</th>\n",
       "      <th>Quantité</th>\n",
       "      <th>Prix_unitaire</th>\n",
       "      <th>Total_achat</th>\n",
       "    </tr>\n",
       "  </thead>\n",
       "  <tbody>\n",
       "    <tr>\n",
       "      <th>0</th>\n",
       "      <td>2019-01-01</td>\n",
       "      <td>1</td>\n",
       "      <td>Tomate</td>\n",
       "      <td>32</td>\n",
       "      <td>0.20</td>\n",
       "      <td>6.40</td>\n",
       "    </tr>\n",
       "    <tr>\n",
       "      <th>1</th>\n",
       "      <td>2019-01-01</td>\n",
       "      <td>2</td>\n",
       "      <td>Salade</td>\n",
       "      <td>77</td>\n",
       "      <td>0.40</td>\n",
       "      <td>30.80</td>\n",
       "    </tr>\n",
       "    <tr>\n",
       "      <th>2</th>\n",
       "      <td>2019-01-01</td>\n",
       "      <td>3</td>\n",
       "      <td>Pain</td>\n",
       "      <td>8</td>\n",
       "      <td>1.00</td>\n",
       "      <td>8.00</td>\n",
       "    </tr>\n",
       "    <tr>\n",
       "      <th>3</th>\n",
       "      <td>2019-01-01</td>\n",
       "      <td>4</td>\n",
       "      <td>Chocolat</td>\n",
       "      <td>65</td>\n",
       "      <td>1.25</td>\n",
       "      <td>81.25</td>\n",
       "    </tr>\n",
       "    <tr>\n",
       "      <th>4</th>\n",
       "      <td>2019-01-01</td>\n",
       "      <td>3</td>\n",
       "      <td>Riz</td>\n",
       "      <td>53</td>\n",
       "      <td>1.00</td>\n",
       "      <td>53.00</td>\n",
       "    </tr>\n",
       "  </tbody>\n",
       "</table>\n",
       "</div>"
      ],
      "text/plain": [
       "        Date  Fournisseur_id   Produit  Quantité  Prix_unitaire  Total_achat\n",
       "0 2019-01-01               1    Tomate        32           0.20         6.40\n",
       "1 2019-01-01               2    Salade        77           0.40        30.80\n",
       "2 2019-01-01               3      Pain         8           1.00         8.00\n",
       "3 2019-01-01               4  Chocolat        65           1.25        81.25\n",
       "4 2019-01-01               3       Riz        53           1.00        53.00"
      ]
     },
     "execution_count": 89,
     "metadata": {},
     "output_type": "execute_result"
    }
   ],
   "source": [
    "df1 = df.copy()\n",
    "df1 = df.rename(columns={'Date_commande': 'Date'})\n",
    "df1.head()"
   ]
  },
  {
   "cell_type": "code",
   "execution_count": 90,
   "id": "99f93b1c-7c41-47a3-bc69-c508345125ea",
   "metadata": {
    "canvas": {
     "comments": [],
     "componentType": "CodeCell",
     "copiedOriginId": null,
     "diskcache": false,
     "headerColor": "none",
     "id": "bd900df9-ba5f-4f12-b0db-70381ee292b3",
     "isComponent": false,
     "name": "",
     "parents": []
    }
   },
   "outputs": [
    {
     "data": {
      "text/html": [
       "<div>\n",
       "<style scoped>\n",
       "    .dataframe tbody tr th:only-of-type {\n",
       "        vertical-align: middle;\n",
       "    }\n",
       "\n",
       "    .dataframe tbody tr th {\n",
       "        vertical-align: top;\n",
       "    }\n",
       "\n",
       "    .dataframe thead th {\n",
       "        text-align: right;\n",
       "    }\n",
       "</style>\n",
       "<table border=\"1\" class=\"dataframe\">\n",
       "  <thead>\n",
       "    <tr style=\"text-align: right;\">\n",
       "      <th></th>\n",
       "      <th>Unnamed: 0</th>\n",
       "      <th>Fournisseur_id</th>\n",
       "      <th>Produit</th>\n",
       "      <th>Quantité</th>\n",
       "      <th>Prix_unitaire</th>\n",
       "      <th>Total_achat</th>\n",
       "    </tr>\n",
       "    <tr>\n",
       "      <th>Date</th>\n",
       "      <th></th>\n",
       "      <th></th>\n",
       "      <th></th>\n",
       "      <th></th>\n",
       "      <th></th>\n",
       "      <th></th>\n",
       "    </tr>\n",
       "  </thead>\n",
       "  <tbody>\n",
       "    <tr>\n",
       "      <th>2019-01-01</th>\n",
       "      <td>0</td>\n",
       "      <td>1</td>\n",
       "      <td>Tomate</td>\n",
       "      <td>32</td>\n",
       "      <td>0.20</td>\n",
       "      <td>6.40</td>\n",
       "    </tr>\n",
       "    <tr>\n",
       "      <th>2019-01-01</th>\n",
       "      <td>1</td>\n",
       "      <td>2</td>\n",
       "      <td>Salade</td>\n",
       "      <td>77</td>\n",
       "      <td>0.40</td>\n",
       "      <td>30.80</td>\n",
       "    </tr>\n",
       "    <tr>\n",
       "      <th>2019-01-01</th>\n",
       "      <td>2</td>\n",
       "      <td>3</td>\n",
       "      <td>Pain</td>\n",
       "      <td>8</td>\n",
       "      <td>1.00</td>\n",
       "      <td>8.00</td>\n",
       "    </tr>\n",
       "    <tr>\n",
       "      <th>2019-01-01</th>\n",
       "      <td>3</td>\n",
       "      <td>4</td>\n",
       "      <td>Chocolat</td>\n",
       "      <td>65</td>\n",
       "      <td>1.25</td>\n",
       "      <td>81.25</td>\n",
       "    </tr>\n",
       "    <tr>\n",
       "      <th>2019-01-01</th>\n",
       "      <td>4</td>\n",
       "      <td>3</td>\n",
       "      <td>Riz</td>\n",
       "      <td>53</td>\n",
       "      <td>1.00</td>\n",
       "      <td>53.00</td>\n",
       "    </tr>\n",
       "  </tbody>\n",
       "</table>\n",
       "</div>"
      ],
      "text/plain": [
       "            Unnamed: 0  Fournisseur_id   Produit  Quantité  Prix_unitaire  \\\n",
       "Date                                                                        \n",
       "2019-01-01           0               1    Tomate        32           0.20   \n",
       "2019-01-01           1               2    Salade        77           0.40   \n",
       "2019-01-01           2               3      Pain         8           1.00   \n",
       "2019-01-01           3               4  Chocolat        65           1.25   \n",
       "2019-01-01           4               3       Riz        53           1.00   \n",
       "\n",
       "            Total_achat  \n",
       "Date                     \n",
       "2019-01-01         6.40  \n",
       "2019-01-01        30.80  \n",
       "2019-01-01         8.00  \n",
       "2019-01-01        81.25  \n",
       "2019-01-01        53.00  "
      ]
     },
     "execution_count": 90,
     "metadata": {},
     "output_type": "execute_result"
    }
   ],
   "source": [
    "data = pd.read_excel(\"DATAOMEGA.xlsx\", index_col=\"Date\", parse_dates=True)\n",
    "data.head()"
   ]
  },
  {
   "cell_type": "code",
   "execution_count": 91,
   "id": "980e9218-c483-465f-a879-02ce095ebb25",
   "metadata": {
    "canvas": {
     "comments": [],
     "componentType": "CodeCell",
     "copiedOriginId": null,
     "diskcache": false,
     "headerColor": "none",
     "id": "3c4302cf-2633-4295-b61b-43c141a41949",
     "isComponent": false,
     "name": "",
     "parents": []
    }
   },
   "outputs": [
    {
     "data": {
      "text/html": [
       "<div>\n",
       "<style scoped>\n",
       "    .dataframe tbody tr th:only-of-type {\n",
       "        vertical-align: middle;\n",
       "    }\n",
       "\n",
       "    .dataframe tbody tr th {\n",
       "        vertical-align: top;\n",
       "    }\n",
       "\n",
       "    .dataframe thead th {\n",
       "        text-align: right;\n",
       "    }\n",
       "</style>\n",
       "<table border=\"1\" class=\"dataframe\">\n",
       "  <thead>\n",
       "    <tr style=\"text-align: right;\">\n",
       "      <th></th>\n",
       "      <th>Fournisseur_id</th>\n",
       "      <th>Produit</th>\n",
       "      <th>Quantité</th>\n",
       "      <th>Prix_unitaire</th>\n",
       "      <th>Total_achat</th>\n",
       "    </tr>\n",
       "    <tr>\n",
       "      <th>Date</th>\n",
       "      <th></th>\n",
       "      <th></th>\n",
       "      <th></th>\n",
       "      <th></th>\n",
       "      <th></th>\n",
       "    </tr>\n",
       "  </thead>\n",
       "  <tbody>\n",
       "    <tr>\n",
       "      <th>2019-01-01</th>\n",
       "      <td>1</td>\n",
       "      <td>Tomate</td>\n",
       "      <td>32</td>\n",
       "      <td>0.20</td>\n",
       "      <td>6.40</td>\n",
       "    </tr>\n",
       "    <tr>\n",
       "      <th>2019-01-01</th>\n",
       "      <td>2</td>\n",
       "      <td>Salade</td>\n",
       "      <td>77</td>\n",
       "      <td>0.40</td>\n",
       "      <td>30.80</td>\n",
       "    </tr>\n",
       "    <tr>\n",
       "      <th>2019-01-01</th>\n",
       "      <td>3</td>\n",
       "      <td>Pain</td>\n",
       "      <td>8</td>\n",
       "      <td>1.00</td>\n",
       "      <td>8.00</td>\n",
       "    </tr>\n",
       "    <tr>\n",
       "      <th>2019-01-01</th>\n",
       "      <td>4</td>\n",
       "      <td>Chocolat</td>\n",
       "      <td>65</td>\n",
       "      <td>1.25</td>\n",
       "      <td>81.25</td>\n",
       "    </tr>\n",
       "    <tr>\n",
       "      <th>2019-01-01</th>\n",
       "      <td>3</td>\n",
       "      <td>Riz</td>\n",
       "      <td>53</td>\n",
       "      <td>1.00</td>\n",
       "      <td>53.00</td>\n",
       "    </tr>\n",
       "  </tbody>\n",
       "</table>\n",
       "</div>"
      ],
      "text/plain": [
       "            Fournisseur_id   Produit  Quantité  Prix_unitaire  Total_achat\n",
       "Date                                                                      \n",
       "2019-01-01               1    Tomate        32           0.20         6.40\n",
       "2019-01-01               2    Salade        77           0.40        30.80\n",
       "2019-01-01               3      Pain         8           1.00         8.00\n",
       "2019-01-01               4  Chocolat        65           1.25        81.25\n",
       "2019-01-01               3       Riz        53           1.00        53.00"
      ]
     },
     "execution_count": 91,
     "metadata": {},
     "output_type": "execute_result"
    }
   ],
   "source": [
    "data.drop(\"Unnamed: 0\", axis=1, inplace=True)\n",
    "data.head()"
   ]
  },
  {
   "cell_type": "markdown",
   "id": "7de03823-cca0-4327-859d-2d6c39782952",
   "metadata": {
    "canvas": {
     "comments": [],
     "componentType": "CodeCell",
     "copiedOriginId": null,
     "diskcache": false,
     "headerColor": "none",
     "id": "1ab8143b-1aca-4733-a21b-6fb140d7e71a",
     "isComponent": false,
     "name": "",
     "parents": []
    }
   },
   "source": [
    "# Data Preprocessing"
   ]
  },
  {
   "cell_type": "code",
   "execution_count": 92,
   "id": "0273602f-a1e4-492b-b214-ebf3e9b5b2ce",
   "metadata": {
    "canvas": {
     "comments": [],
     "componentType": "CodeCell",
     "copiedOriginId": null,
     "diskcache": false,
     "headerColor": "none",
     "id": "ef3ae1c0-0045-4a5c-a9f2-8148056a40e7",
     "isComponent": false,
     "name": "",
     "parents": []
    }
   },
   "outputs": [
    {
     "data": {
      "text/html": [
       "<div>\n",
       "<style scoped>\n",
       "    .dataframe tbody tr th:only-of-type {\n",
       "        vertical-align: middle;\n",
       "    }\n",
       "\n",
       "    .dataframe tbody tr th {\n",
       "        vertical-align: top;\n",
       "    }\n",
       "\n",
       "    .dataframe thead th {\n",
       "        text-align: right;\n",
       "    }\n",
       "</style>\n",
       "<table border=\"1\" class=\"dataframe\">\n",
       "  <thead>\n",
       "    <tr style=\"text-align: right;\">\n",
       "      <th></th>\n",
       "      <th>Date_commande</th>\n",
       "      <th>Fournisseur_id</th>\n",
       "      <th>Produit</th>\n",
       "      <th>Quantité</th>\n",
       "      <th>Prix_unitaire</th>\n",
       "      <th>Total_achat</th>\n",
       "    </tr>\n",
       "  </thead>\n",
       "  <tbody>\n",
       "    <tr>\n",
       "      <th>0</th>\n",
       "      <td>2019-01-01</td>\n",
       "      <td>1</td>\n",
       "      <td>Tomate</td>\n",
       "      <td>32</td>\n",
       "      <td>0.2</td>\n",
       "      <td>6.4</td>\n",
       "    </tr>\n",
       "  </tbody>\n",
       "</table>\n",
       "</div>"
      ],
      "text/plain": [
       "  Date_commande  Fournisseur_id Produit  Quantité  Prix_unitaire  Total_achat\n",
       "0    2019-01-01               1  Tomate        32            0.2          6.4"
      ]
     },
     "execution_count": 92,
     "metadata": {},
     "output_type": "execute_result"
    }
   ],
   "source": [
    "df.head(1)"
   ]
  },
  {
   "cell_type": "code",
   "execution_count": 93,
   "id": "05e43ae6-50f1-4494-b4cf-2aa3c51d32e5",
   "metadata": {
    "canvas": {
     "comments": [],
     "componentType": "CodeCell",
     "copiedOriginId": null,
     "diskcache": false,
     "headerColor": "none",
     "id": "52193288-407f-45c5-9266-422c2a4637cf",
     "isComponent": false,
     "name": "",
     "parents": []
    }
   },
   "outputs": [
    {
     "data": {
      "text/plain": [
       "((14, 3), pandas.core.frame.DataFrame)"
      ]
     },
     "execution_count": 93,
     "metadata": {},
     "output_type": "execute_result"
    }
   ],
   "source": [
    "x = df[[\"Produit\", \"Quantité\", \"Prix_unitaire\"]]\n",
    "x.shape, type(x)"
   ]
  },
  {
   "cell_type": "code",
   "execution_count": 94,
   "id": "2f468c4c-ea33-45af-a7bc-7f228eb35c32",
   "metadata": {
    "canvas": {
     "comments": [],
     "componentType": "CodeCell",
     "copiedOriginId": null,
     "diskcache": false,
     "headerColor": "none",
     "id": "09e0bb73-213e-4adf-bee7-8a89decd15cf",
     "isComponent": false,
     "name": "",
     "parents": []
    }
   },
   "outputs": [
    {
     "data": {
      "text/plain": [
       "((14, 1), numpy.ndarray)"
      ]
     },
     "execution_count": 94,
     "metadata": {},
     "output_type": "execute_result"
    }
   ],
   "source": [
    "y = df[[\"Total_achat\"]].values\n",
    "y.shape, type(y)"
   ]
  },
  {
   "cell_type": "code",
   "execution_count": 95,
   "id": "0dd21491-b63a-4026-b418-95e86c8da252",
   "metadata": {
    "canvas": {
     "comments": [],
     "componentType": "CodeCell",
     "copiedOriginId": null,
     "diskcache": false,
     "headerColor": "none",
     "id": "dd5aefe8-afa0-4e41-ac7c-7b4688e20711",
     "isComponent": false,
     "name": "",
     "parents": []
    }
   },
   "outputs": [],
   "source": [
    "from sklearn.preprocessing import LabelEncoder, LabelBinarizer"
   ]
  },
  {
   "cell_type": "code",
   "execution_count": 133,
   "id": "8b5c6c77-2530-4e98-8674-6d9a1809cb50",
   "metadata": {
    "canvas": {
     "comments": [],
     "componentType": "CodeCell",
     "copiedOriginId": null,
     "diskcache": false,
     "headerColor": "none",
     "id": "c0bc1a30-d91b-403e-a090-87a04e1277c4",
     "isComponent": false,
     "name": "",
     "parents": []
    }
   },
   "outputs": [
    {
     "name": "stderr",
     "output_type": "stream",
     "text": [
      "C:\\Users\\Rostaing\\AppData\\Local\\Temp\\ipykernel_35072\\209914867.py:3: SettingWithCopyWarning: \n",
      "A value is trying to be set on a copy of a slice from a DataFrame.\n",
      "Try using .loc[row_indexer,col_indexer] = value instead\n",
      "\n",
      "See the caveats in the documentation: https://pandas.pydata.org/pandas-docs/stable/user_guide/indexing.html#returning-a-view-versus-a-copy\n",
      "  x.loc[:, \"Produit\"] = LabelEncoder().fit_transform(x.loc[:, \"Produit\"])\n"
     ]
    }
   ],
   "source": [
    "# x[\"Produit\"] = LabelEncoder().fit_transform(x[\"Produit\"])\n",
    "# x.head()\n",
    "x.loc[:, \"Produit\"] = LabelEncoder().fit_transform(x.loc[:, \"Produit\"])"
   ]
  },
  {
   "cell_type": "code",
   "execution_count": 134,
   "id": "575f9a3f-c3d7-4923-b65d-91f2fbd0278d",
   "metadata": {
    "canvas": {
     "comments": [],
     "componentType": "CodeCell",
     "copiedOriginId": null,
     "diskcache": false,
     "headerColor": "none",
     "id": "788fb6cf-5c78-4622-877b-0581b93477a1",
     "isComponent": false,
     "name": "",
     "parents": []
    }
   },
   "outputs": [
    {
     "data": {
      "text/plain": [
       "((14, 3), numpy.ndarray)"
      ]
     },
     "execution_count": 134,
     "metadata": {},
     "output_type": "execute_result"
    }
   ],
   "source": [
    "X = x.values\n",
    "X.shape, type(X)"
   ]
  },
  {
   "cell_type": "markdown",
   "id": "c7a8595e-3ea1-41cc-9a4b-d98f56886368",
   "metadata": {
    "canvas": {
     "comments": [],
     "componentType": "CodeCell",
     "copiedOriginId": null,
     "diskcache": false,
     "headerColor": "none",
     "id": "45b5e6e5-8a40-4286-97fe-c63d3f420c50",
     "isComponent": false,
     "name": "",
     "parents": []
    }
   },
   "source": [
    "# Modelling (Machine Learning Model) "
   ]
  },
  {
   "cell_type": "code",
   "execution_count": 135,
   "id": "bb833c48-f34a-4c28-8489-b46474bf454b",
   "metadata": {
    "canvas": {
     "comments": [],
     "componentType": "CodeCell",
     "copiedOriginId": null,
     "diskcache": false,
     "headerColor": "none",
     "id": "867965b7-4fb9-450a-a335-ad374b1642ad",
     "isComponent": false,
     "name": "",
     "parents": []
    }
   },
   "outputs": [],
   "source": [
    "from sklearn.linear_model import LinearRegression, Ridge, Lasso\n",
    "from sklearn.model_selection import train_test_split\n",
    "from sklearn.preprocessing import MinMaxScaler, StandardScaler, RobustScaler, KBinsDiscretizer, PolynomialFeatures\n",
    "from sklearn.pipeline import make_pipeline"
   ]
  },
  {
   "cell_type": "code",
   "execution_count": 136,
   "id": "b5174ad4-8b5a-4a01-a07a-62795581e1cb",
   "metadata": {
    "canvas": {
     "comments": [],
     "componentType": "CodeCell",
     "copiedOriginId": null,
     "diskcache": false,
     "headerColor": "none",
     "id": "027f3d41-bd6e-4716-bbaa-dd7823e0c1d6",
     "isComponent": false,
     "name": "",
     "parents": []
    }
   },
   "outputs": [],
   "source": [
    "X_train, X_test, y_train, y_test = train_test_split(X, y, test_size=0.2, random_state=0)"
   ]
  },
  {
   "cell_type": "code",
   "execution_count": 137,
   "id": "b4adc30e-6286-4aa6-ae6e-a58ab0bb36b2",
   "metadata": {
    "canvas": {
     "comments": [],
     "componentType": "CodeCell",
     "copiedOriginId": null,
     "diskcache": false,
     "headerColor": "none",
     "id": "63c079cb-b568-4545-bfbd-243b9ace923d",
     "isComponent": false,
     "name": "",
     "parents": []
    }
   },
   "outputs": [
    {
     "data": {
      "text/plain": [
       "((11, 3), (11, 1))"
      ]
     },
     "execution_count": 137,
     "metadata": {},
     "output_type": "execute_result"
    }
   ],
   "source": [
    "X_train.shape, y_train.shape"
   ]
  },
  {
   "cell_type": "code",
   "execution_count": 138,
   "id": "f6c9421c-c3a5-46d6-a4ec-b9f6209a211b",
   "metadata": {
    "canvas": {
     "comments": [],
     "componentType": "CodeCell",
     "copiedOriginId": null,
     "diskcache": false,
     "headerColor": "none",
     "id": "0e555c49-c59f-46a9-8d47-f8584442e334",
     "isComponent": false,
     "name": "",
     "parents": []
    }
   },
   "outputs": [
    {
     "data": {
      "text/plain": [
       "((3, 3), (3, 1))"
      ]
     },
     "execution_count": 138,
     "metadata": {},
     "output_type": "execute_result"
    }
   ],
   "source": [
    "X_test.shape, y_test.shape"
   ]
  },
  {
   "cell_type": "code",
   "execution_count": 139,
   "id": "002eb65d-0a66-484f-8a49-da0998ccea23",
   "metadata": {
    "canvas": {
     "comments": [],
     "componentType": "CodeCell",
     "copiedOriginId": null,
     "diskcache": false,
     "headerColor": "none",
     "id": "764401e0-2132-4215-bfdf-cfe9fe00359d",
     "isComponent": false,
     "name": "",
     "parents": []
    }
   },
   "outputs": [
    {
     "name": "stdout",
     "output_type": "stream",
     "text": [
      "Test score: 83%\n"
     ]
    }
   ],
   "source": [
    "# First Model\n",
    "model_1 = LinearRegression()\n",
    "model_1.fit(X_train, y_train)\n",
    "print(\"Test score: {}%\".format(round(model_1.score(X_test, y_test)*100)))"
   ]
  },
  {
   "cell_type": "code",
   "execution_count": 140,
   "id": "684cf835-d627-481b-99fd-b8f63e5f2564",
   "metadata": {
    "canvas": {
     "comments": [],
     "componentType": "CodeCell",
     "copiedOriginId": null,
     "diskcache": false,
     "headerColor": "none",
     "id": "1a2641f3-72fb-435b-8025-84460c5f1973",
     "isComponent": false,
     "name": "",
     "parents": []
    }
   },
   "outputs": [
    {
     "name": "stdout",
     "output_type": "stream",
     "text": [
      "coefs: [[-1.28894214  0.59186385  9.39010926]] \n",
      "intercept: [-28.17857255]\n"
     ]
    }
   ],
   "source": [
    "print(\"coefs: {} \\nintercept: {}\".format(model_1.coef_, model_1.intercept_))"
   ]
  },
  {
   "cell_type": "code",
   "execution_count": 154,
   "id": "1a210066-8e1f-42dc-9baf-9609a6c497ab",
   "metadata": {
    "canvas": {
     "comments": [],
     "componentType": "CodeCell",
     "copiedOriginId": null,
     "diskcache": false,
     "headerColor": "none",
     "id": "bfe31142-18c6-43c6-8695-cbf2b34d4094",
     "isComponent": false,
     "name": "",
     "parents": []
    }
   },
   "outputs": [
    {
     "name": "stdout",
     "output_type": "stream",
     "text": [
      "Test score: 99%\n"
     ]
    }
   ],
   "source": [
    "# Second Model\n",
    "model_2 = make_pipeline(PolynomialFeatures(4), MinMaxScaler(), LinearRegression())\n",
    "model_2.fit(X_train, y_train)\n",
    "print(\"Test score: {}%\".format(round(model_2.score(X_test, y_test)*100)))"
   ]
  },
  {
   "cell_type": "code",
   "execution_count": 155,
   "id": "627f4a5d-d018-4ce8-9706-763e727ecdf9",
   "metadata": {
    "canvas": {
     "comments": [],
     "componentType": "CodeCell",
     "copiedOriginId": null,
     "diskcache": false,
     "headerColor": "none",
     "id": "ac9fc23a-4a32-4301-965d-c737ec5a8b12",
     "isComponent": false,
     "name": "",
     "parents": []
    }
   },
   "outputs": [],
   "source": [
    "predictions = model_2.predict(X_test)"
   ]
  },
  {
   "cell_type": "markdown",
   "id": "ddab524c-7c54-4fda-8e76-4f1fc2a588e6",
   "metadata": {
    "canvas": {
     "comments": [],
     "componentType": "CodeCell",
     "copiedOriginId": null,
     "diskcache": false,
     "headerColor": "inherit",
     "id": "97ebb6d5-893e-48f8-9141-8c58ee395569",
     "isComponent": false,
     "name": "",
     "parents": []
    }
   },
   "source": [
    "### Prediction Model"
   ]
  },
  {
   "cell_type": "code",
   "execution_count": 156,
   "id": "909826d3-fb63-4fb1-9796-113c54ed1f46",
   "metadata": {
    "canvas": {
     "comments": [],
     "componentType": "CodeCell",
     "copiedOriginId": null,
     "diskcache": false,
     "headerColor": "inherit",
     "id": "96e6e3a2-46cb-446f-84fd-69e84d0b546a",
     "isComponent": false,
     "name": "",
     "parents": []
    }
   },
   "outputs": [
    {
     "data": {
      "image/png": "[encoded data removed]",
      "text/plain": [
       "<Figure size 432x288 with 1 Axes>"
      ]
     },
     "metadata": {
      "needs_background": "light"
     },
     "output_type": "display_data"
    }
   ],
   "source": [
    "sns.regplot(x=X_test[:, 0], y=predictions, data=X_test);"
   ]
  },
  {
   "cell_type": "code",
   "execution_count": 67,
   "id": "2fc01304-23b4-4239-8cea-128980fc160f",
   "metadata": {
    "canvas": {
     "comments": [],
     "componentType": "CodeCell",
     "copiedOriginId": null,
     "diskcache": false,
     "headerColor": "none",
     "id": "17747f68-d2ec-46f2-a627-7d31a542ff51",
     "isComponent": false,
     "name": "",
     "parents": []
    }
   },
   "outputs": [
    {
     "name": "stdout",
     "output_type": "stream",
     "text": [
      "Test:\n",
      " [[40.]\n",
      " [ 6.]\n",
      " [53.]]\n",
      "Predictions:\n",
      " [[40.]\n",
      " [ 6.]\n",
      " [53.]]\n"
     ]
    }
   ],
   "source": [
    "print(\"Test:\\n {}\\nPredictions:\\n {}\".format(y_test, predictions))"
   ]
  },
  {
   "cell_type": "markdown",
   "id": "48413342-1403-466a-937d-95b007db40d6",
   "metadata": {
    "canvas": {
     "comments": [],
     "componentType": "CodeCell",
     "copiedOriginId": null,
     "diskcache": false,
     "headerColor": "inherit",
     "id": "3e4887cc-aaa5-455d-83bb-9768f4d24e26",
     "isComponent": false,
     "name": "",
     "parents": []
    }
   },
   "source": [
    "### Prediction"
   ]
  },
  {
   "cell_type": "code",
   "execution_count": 69,
   "id": "1dc9ab13-ac18-40a1-a199-7a3972c99dec",
   "metadata": {
    "canvas": {
     "comments": [],
     "componentType": "CodeCell",
     "copiedOriginId": null,
     "diskcache": false,
     "headerColor": "none",
     "id": "08cb1136-cc1f-4218-ae8f-214540bb5b4a",
     "isComponent": false,
     "name": "",
     "parents": []
    }
   },
   "outputs": [
    {
     "name": "stdout",
     "output_type": "stream",
     "text": [
      "\n"
     ]
    },
    {
     "name": "stdin",
     "output_type": "stream",
     "text": [
      "product:  8\n",
      "Quantity:  77\n",
      "Unit price:  0.40\n"
     ]
    },
    {
     "name": "stdout",
     "output_type": "stream",
     "text": [
      "Total =  30.8\n",
      "\n",
      "Bye!\n"
     ]
    }
   ],
   "source": [
    "def pred(model_2, Produit, Quantite, Prix_unitaire):\n",
    "    return model_2.predict([[Produit, Quantite, Prix_unitaire]]).flatten()[0]\n",
    "print(\"\")\n",
    "try:\n",
    "    Produit = int(input(\"product: \"))\n",
    "    Quantite = int(input(\"Quantity: \"))\n",
    "    Prix_unitaire = float(input(\"Unit price: \"))\n",
    "    print(\"Total = \", round(pred(model_2, Produit, Quantite, Prix_unitaire),2))\n",
    "except:\n",
    "    print(\"Error.\")\n",
    "finally:\n",
    "    print(\"\\nBye!\")"
   ]
  },
  {
   "cell_type": "markdown",
   "id": "cac1d0fd-43ba-45c3-9705-16f91bdda9c0",
   "metadata": {
    "canvas": {
     "comments": [],
     "componentType": "CodeCell",
     "copiedOriginId": null,
     "diskcache": false,
     "headerColor": "none",
     "id": "98117f23-319b-493d-b722-58cd2b226073",
     "isComponent": false,
     "name": "",
     "parents": []
    }
   },
   "source": [
    "## Learning Curve (First model: model_1)"
   ]
  },
  {
   "cell_type": "code",
   "execution_count": 158,
   "id": "0126ee81-c7f3-4323-9772-ca5d346318a6",
   "metadata": {
    "canvas": {
     "comments": [],
     "componentType": "CodeCell",
     "copiedOriginId": null,
     "diskcache": false,
     "headerColor": "none",
     "id": "b32d5c47-247b-4777-92e2-9ab540e848a9",
     "isComponent": false,
     "name": "",
     "parents": []
    }
   },
   "outputs": [],
   "source": [
    "from sklearn.model_selection import learning_curve"
   ]
  },
  {
   "cell_type": "code",
   "execution_count": 159,
   "id": "1aebcec1-1d19-4313-bb32-5223e462823a",
   "metadata": {
    "canvas": {
     "comments": [],
     "componentType": "CodeCell",
     "copiedOriginId": null,
     "diskcache": false,
     "headerColor": "none",
     "id": "ebb6dd11-0b07-4cf6-9535-7a0b8905a30d",
     "isComponent": false,
     "name": "",
     "parents": []
    }
   },
   "outputs": [
    {
     "name": "stderr",
     "output_type": "stream",
     "text": [
      "C:\\Users\\Rostaing\\anaconda3\\lib\\site-packages\\sklearn\\model_selection\\_validation.py:1646: RuntimeWarning: Removed duplicate entries from 'train_sizes'. Number of ticks will be less than the size of 'train_sizes': 8 instead of 10.\n",
      "  warnings.warn(\n",
      "C:\\Users\\Rostaing\\anaconda3\\lib\\site-packages\\sklearn\\metrics\\_regression.py:796: UndefinedMetricWarning: R^2 score is not well-defined with less than two samples.\n",
      "  warnings.warn(msg, UndefinedMetricWarning)\n",
      "C:\\Users\\Rostaing\\anaconda3\\lib\\site-packages\\sklearn\\metrics\\_regression.py:796: UndefinedMetricWarning: R^2 score is not well-defined with less than two samples.\n",
      "  warnings.warn(msg, UndefinedMetricWarning)\n",
      "C:\\Users\\Rostaing\\anaconda3\\lib\\site-packages\\sklearn\\metrics\\_regression.py:796: UndefinedMetricWarning: R^2 score is not well-defined with less than two samples.\n",
      "  warnings.warn(msg, UndefinedMetricWarning)\n",
      "C:\\Users\\Rostaing\\anaconda3\\lib\\site-packages\\sklearn\\metrics\\_regression.py:796: UndefinedMetricWarning: R^2 score is not well-defined with less than two samples.\n",
      "  warnings.warn(msg, UndefinedMetricWarning)\n"
     ]
    },
    {
     "name": "stdout",
     "output_type": "stream",
     "text": [
      "[1 2 3 4 5 6 7 8]\n"
     ]
    },
    {
     "name": "stderr",
     "output_type": "stream",
     "text": [
      "C:\\Users\\Rostaing\\anaconda3\\lib\\site-packages\\sklearn\\metrics\\_regression.py:796: UndefinedMetricWarning: R^2 score is not well-defined with less than two samples.\n",
      "  warnings.warn(msg, UndefinedMetricWarning)\n"
     ]
    },
    {
     "data": {
      "text/plain": [
       "<matplotlib.legend.Legend at 0x1bed36a6be0>"
      ]
     },
     "execution_count": 159,
     "metadata": {},
     "output_type": "execute_result"
    },
    {
     "data": {
      "image/png": "[encoded data removed]",
      "text/plain": [
       "<Figure size 432x288 with 1 Axes>"
      ]
     },
     "metadata": {
      "needs_background": "light"
     },
     "output_type": "display_data"
    }
   ],
   "source": [
    "N, train_score, val_score = learning_curve(model_1, X_train, y_train, \n",
    "                                           train_sizes=np.linspace(0.1, 1, 10), cv=5)\n",
    "print(N)\n",
    "plt.plot(N, train_score.mean(axis=1), label='train')\n",
    "plt.plot(N, val_score.mean(axis=1), label='validation')\n",
    "plt.xlabel('train_sizes')\n",
    "plt.legend()"
   ]
  },
  {
   "cell_type": "markdown",
   "id": "b96b32de-192f-45da-ab03-813c874f6859",
   "metadata": {
    "canvas": {
     "comments": [],
     "componentType": "CodeCell",
     "copiedOriginId": null,
     "diskcache": false,
     "headerColor": "none",
     "id": "8ac92fa8-20d6-4a5f-8612-055c95ec4219",
     "isComponent": false,
     "name": "",
     "parents": []
    }
   },
   "source": [
    "## Learning Curve (second model: model_2)"
   ]
  },
  {
   "cell_type": "code",
   "execution_count": 160,
   "id": "4aadc57f-90d0-4e1a-aae7-50daf797994f",
   "metadata": {
    "canvas": {
     "comments": [],
     "componentType": "CodeCell",
     "copiedOriginId": null,
     "diskcache": false,
     "headerColor": "none",
     "id": "49911afd-fae2-45dd-99a6-31e18f718e98",
     "isComponent": false,
     "name": "",
     "parents": []
    }
   },
   "outputs": [
    {
     "name": "stderr",
     "output_type": "stream",
     "text": [
      "C:\\Users\\Rostaing\\anaconda3\\lib\\site-packages\\sklearn\\model_selection\\_validation.py:1646: RuntimeWarning: Removed duplicate entries from 'train_sizes'. Number of ticks will be less than the size of 'train_sizes': 8 instead of 10.\n",
      "  warnings.warn(\n",
      "C:\\Users\\Rostaing\\anaconda3\\lib\\site-packages\\sklearn\\metrics\\_regression.py:796: UndefinedMetricWarning: R^2 score is not well-defined with less than two samples.\n",
      "  warnings.warn(msg, UndefinedMetricWarning)\n",
      "C:\\Users\\Rostaing\\anaconda3\\lib\\site-packages\\sklearn\\metrics\\_regression.py:796: UndefinedMetricWarning: R^2 score is not well-defined with less than two samples.\n",
      "  warnings.warn(msg, UndefinedMetricWarning)\n",
      "C:\\Users\\Rostaing\\anaconda3\\lib\\site-packages\\sklearn\\metrics\\_regression.py:796: UndefinedMetricWarning: R^2 score is not well-defined with less than two samples.\n",
      "  warnings.warn(msg, UndefinedMetricWarning)\n",
      "C:\\Users\\Rostaing\\anaconda3\\lib\\site-packages\\sklearn\\metrics\\_regression.py:796: UndefinedMetricWarning: R^2 score is not well-defined with less than two samples.\n",
      "  warnings.warn(msg, UndefinedMetricWarning)\n",
      "C:\\Users\\Rostaing\\anaconda3\\lib\\site-packages\\sklearn\\metrics\\_regression.py:796: UndefinedMetricWarning: R^2 score is not well-defined with less than two samples.\n",
      "  warnings.warn(msg, UndefinedMetricWarning)\n"
     ]
    },
    {
     "name": "stdout",
     "output_type": "stream",
     "text": [
      "[1 2 3 4 5 6 7 8]\n"
     ]
    },
    {
     "data": {
      "text/plain": [
       "<matplotlib.legend.Legend at 0x1bed372f100>"
      ]
     },
     "execution_count": 160,
     "metadata": {},
     "output_type": "execute_result"
    },
    {
     "data": {
      "image/png": "[encoded data removed]",
      "text/plain": [
       "<Figure size 432x288 with 1 Axes>"
      ]
     },
     "metadata": {
      "needs_background": "light"
     },
     "output_type": "display_data"
    }
   ],
   "source": [
    "N, train_score, val_score = learning_curve(model_2, X_train, y_train, \n",
    "                                           train_sizes=np.linspace(0.1, 1, 10), cv=5)\n",
    "print(N)\n",
    "plt.plot(N, train_score.mean(axis=1), label='train')\n",
    "plt.plot(N, val_score.mean(axis=1), label='validation')\n",
    "plt.xlabel('train_sizes')\n",
    "plt.legend()"
   ]
  }
 ],
 "metadata": {
  "canvas": {
   "colorPalette": [
    "inherit",
    "inherit",
    "inherit",
    "inherit",
    "inherit",
    "inherit",
    "inherit",
    "inherit",
    "inherit",
    "inherit"
   ],
   "parameters": [],
   "version": "1.0"
  },
  "kernelspec": {
   "display_name": "Python 3 (ipykernel)",
   "language": "python",
   "name": "python3"
  },
  "language_info": {
   "codemirror_mode": {
    "name": "ipython",
    "version": 3
   },
   "file_extension": ".py",
   "mimetype": "text/x-python",
   "name": "python",
   "nbconvert_exporter": "python",
   "pygments_lexer": "ipython3",
   "version": "3.9.18"
  },
  "widgets": {
   "application/vnd.jupyter.widget-state+json": {
    "state": {},
    "version_major": 2,
    "version_minor": 0
   }
  }
 },
 "nbformat": 4,
 "nbformat_minor": 5
}
